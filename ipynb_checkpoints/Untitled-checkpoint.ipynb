{
 "cells": [
  {
   "cell_type": "code",
   "execution_count": null,
   "metadata": {},
   "outputs": [],
   "source": [
    "            ia.seed(1)\n",
    "            seq_of_aug = iaa.Sequential([\n",
    "                iaa.Crop(percent=(0, 0.1)), # random crops\n",
    "                 # horizontally flip 50% of the images\n",
    "                iaa.Fliplr(0.5)\n",
    "                \n",
    "                # Gaussian blur to 50% of the images\n",
    "                # with random sigma between 0 and 0.5.\n",
    "                iaa.Sometimes(0.5,\n",
    "                    iaa.GaussianBlur(sigma=(0, 0.5))\n",
    "                    ),\n",
    "                \n",
    "                # Strengthen or weaken the contrast in each image.\n",
    "                iaa.ContrastNormalization((0.75, 1.5)),\n",
    "                \n",
    "                # Add gaussian noise.\n",
    "                # For 50% of all images, we sample the noise once per pixel.\n",
    "                # For the other 50% of all images, we sample the noise per pixel AND\n",
    "                # channel. This can change the color (not only brightness) of the pixels.\n",
    "                \n",
    "                iaa.AdditiveGaussianNoise(loc=0, scale=(0.0, 0.05*255), per_channel=0.5),\n",
    "                \n",
    "                \n",
    "                # Make some images brighter and some darker.\n",
    "                # In 20% of all cases, we sample the multiplier once per channel,\n",
    "                # which can end up changing the color of the images.\n",
    "                iaa.Multiply((0.8, 1.2), per_channel=0.2),\n",
    "                \n",
    "                \n",
    "                # Apply affine transformations to each image.\n",
    "                # Scale/zoom them from 90% 5o 110%\n",
    "                # Translate/move them, rotate them\n",
    "                # Shear them slightly -2 to 2 degrees.\n",
    "                \n",
    "                iaa.Affine(\n",
    "                    scale={\"x\": (0.9, 1.1), \"y\": (0.9, 1.1)},\n",
    "                    translate_percent={\"x\": (-0.2, 0.2), \"y\": (-0.2, 0.2)},\n",
    "                    rotate=(-5, 5),\n",
    "                    shear=(-2, 2)\n",
    "                )\n",
    "            ] , random_order=True) # apply augmenters in random order"
   ]
  }
 ],
 "metadata": {
  "kernelspec": {
   "display_name": "Python 3",
   "language": "python",
   "name": "python3"
  },
  "language_info": {
   "codemirror_mode": {
    "name": "ipython",
    "version": 3
   },
   "file_extension": ".py",
   "mimetype": "text/x-python",
   "name": "python",
   "nbconvert_exporter": "python",
   "pygments_lexer": "ipython3",
   "version": "3.7.6"
  }
 },
 "nbformat": 4,
 "nbformat_minor": 4
}
