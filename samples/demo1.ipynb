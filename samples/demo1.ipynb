{
 "cells": [
  {
   "cell_type": "markdown",
   "metadata": {},
   "source": [
    "# coco related libraries "
   ]
  },
  {
   "cell_type": "code",
   "execution_count": 23,
   "metadata": {},
   "outputs": [],
   "source": [
    "from samples.coco import coco\n",
    "\n",
    "#Mask RCNN libraries \n",
    "from mrcnn.config import Config \n",
    "import mrcnn.utils as utils\n",
    "from mrcnn import visualize \n",
    "import mrcnn.model as modellib\n",
    "import coco\n",
    "\n",
    "#Misc\n",
    "import os\n",
    "import sys \n",
    "import json\n",
    "import numpy as np\n",
    "import time \n",
    "from PIL import Image, ImageDraw"
   ]
  },
  {
   "cell_type": "markdown",
   "metadata": {},
   "source": [
    "# CONSTANTS "
   ]
  },
  {
   "cell_type": "code",
   "execution_count": 24,
   "metadata": {},
   "outputs": [],
   "source": [
    "#Number of classes in dataset, must be an integer \n",
    "NUM_CLASSES = 1\n",
    "\n",
    "#Relative path to .h5 weight file for training\n",
    "WEIGHT_FILE = 'C:/Users/FATTY/MaskRCNN/Mask_RCNN-master/mask_rcnn_coco.h5'\n",
    "\n",
    "#Relative path to JSON annotations file\n",
    "TRAIN_ANNOTATIONS_FILE = \"C:/Users/FATTY/MaskRCNN/Mask_RCNN-master/dataset/via_region_data-train\"\n",
    "\n",
    "#Relative path to directory of images that pertain to annotations file training\n",
    "TRAIN_ANNOTATIONS_IMAGE_DIR = \"C:/Users/FATTY/MaskRCNN/Mask_RCNN-master/dataset/train\"\n",
    "\n",
    "#Relative path to JSON annotations file for validation\n",
    "VALIDATION_ANNOTATIONS_FILE = \"C:/Users/FATTY/MaskRCNN/Mask_RCNN-master/dataset/via_region_data-validation\"\n",
    "\n",
    "#Relative path to directory of images that pertain to annotations file for validation\n",
    "VALIDATION_ANNOTATIONS_IMAGE_DIR = \"C:/Users/FATTY/MaskRCNN/Mask_RCNN-master/dataset/val\"\n",
    "\n",
    "\n",
    "NUM_EPOCHS = 80\n",
    "\n",
    "MODEL_NAME = \"model_1\""
   ]
  },
  {
   "cell_type": "markdown",
   "metadata": {},
   "source": [
    "# ADDITIONAL SETUP"
   ]
  },
  {
   "cell_type": "code",
   "execution_count": 25,
   "metadata": {},
   "outputs": [],
   "source": [
    "# set the ROOT_DIR variable to the root directory of the Mask_RCNN git repo \n",
    "ROOT_DIR = os.getcwd()\n",
    "\n",
    "# Directory to save logs and trained model\n",
    "MODEL_DIR = os.path.join(ROOT_DIR, \"logs\")\n",
    "\n",
    "# Select which GPU to use \n",
    "os.environ[\"CUDA_DEVICE_ORDER\"] =\"PCI_BUS_id\";\n",
    "os.environ[\"CUDA_VISIBLE_DEVICES\"]=\"1\";\n"
   ]
  },
  {
   "cell_type": "markdown",
   "metadata": {},
   "source": [
    "# DECLARE TRAINING CONFIGURATION"
   ]
  },
  {
   "cell_type": "code",
   "execution_count": 34,
   "metadata": {},
   "outputs": [
    {
     "ename": "AttributeError",
     "evalue": "module 'coco' has no attribute 'CocoConfig'",
     "output_type": "error",
     "traceback": [
      "\u001b[1;31m---------------------------------------------------------------------------\u001b[0m",
      "\u001b[1;31mAttributeError\u001b[0m                            Traceback (most recent call last)",
      "\u001b[1;32m<ipython-input-34-7fa0f480c72f>\u001b[0m in \u001b[0;36m<module>\u001b[1;34m\u001b[0m\n\u001b[1;32m----> 1\u001b[1;33m \u001b[1;32mclass\u001b[0m \u001b[0mTrainConfig\u001b[0m \u001b[1;33m(\u001b[0m\u001b[0mcoco\u001b[0m\u001b[1;33m.\u001b[0m\u001b[0mCocoConfig\u001b[0m\u001b[1;33m(\u001b[0m\u001b[0mConfig\u001b[0m\u001b[1;33m)\u001b[0m\u001b[1;33m)\u001b[0m\u001b[1;33m:\u001b[0m\u001b[1;33m\u001b[0m\u001b[1;33m\u001b[0m\u001b[0m\n\u001b[0m\u001b[0;32m      2\u001b[0m     \"\"\"\"Configuration for training on MS COCO.\n\u001b[0;32m      3\u001b[0m     \u001b[0mDerives\u001b[0m \u001b[1;32mfrom\u001b[0m \u001b[0mthe\u001b[0m \u001b[0mbase\u001b[0m \u001b[0mConfig\u001b[0m \u001b[1;32mclass\u001b[0m \u001b[1;32mand\u001b[0m \u001b[0moverrides\u001b[0m \u001b[0mvalues\u001b[0m \u001b[0mspecific\u001b[0m\u001b[1;33m\u001b[0m\u001b[1;33m\u001b[0m\u001b[0m\n\u001b[0;32m      4\u001b[0m     \u001b[0mto\u001b[0m \u001b[0mthe\u001b[0m \u001b[0mCOCO\u001b[0m \u001b[0mdataset\u001b[0m\u001b[1;33m.\u001b[0m\u001b[1;33m\u001b[0m\u001b[1;33m\u001b[0m\u001b[0m\n\u001b[0;32m      5\u001b[0m     \"\"\"\n",
      "\u001b[1;31mAttributeError\u001b[0m: module 'coco' has no attribute 'CocoConfig'"
     ]
    }
   ],
   "source": [
    "class TrainConfig (coco.CocoConfig(Config)):\n",
    "    \"\"\"\"Configuration for training on MS COCO.\n",
    "    Derives from the base Config class and overrides values specific\n",
    "    to the COCO dataset.\n",
    "    \"\"\"\n",
    "    #Give the configuration a recognizable name \n",
    "    NAME = \"MODEL_NAME\"\n",
    "    \n",
    "    #Train on 1 image per GPU. Batch size is 1 (GPUs * images/GPU)\n",
    "    GPU_COUNT = 1\n",
    "    IMAGES_PER_GPU = 1\n",
    "    \n",
    "    # Number of classes (including background)\n",
    "    NUM_CLASSES = 1 + NUM_CLASSES\n",
    "    \n",
    "    # Min and Max image dimensions\n",
    "    IMAGE_MIN_DIM = 1152\n",
    "    IMAGE_MAX_DIM = 1280\n",
    "    \n",
    "    # Can vary number to see if it improves training \n",
    "    STEPS_PER_EPOCH = 180\n",
    "    \n",
    "    # This is how often validation is run. If you are using too much hard drive space on saved models (in MODEL_DIR), \n",
    "    #try making this value larger\n",
    "    VALIDATION_STEPS = 50\n",
    "    \n",
    "    # Can downsize the resnet101 value to fit on your graphics card\n",
    "    BACKBONE = 'resnet101'\n",
    "    \n",
    "    #RPN \n",
    "    RPN_ANCHOR_SCALES = (32, 64, 128, 256, 512)\n",
    "    \n",
    "    TRAIN_ROIS_PER_IMAGE = 200\n",
    "    MAX_GT_INSTANCES = 114\n",
    "    POST_NMS_ROIS_INFERENCE = 1000\n",
    "    POST_NMS_ROIS_TRAINING = 2000\n",
    "    \n",
    "    DETECTION_MAX_INSTANCES = 114\n",
    "    DETECTION_MIN_CONFIDENCE = 0.1"
   ]
  },
  {
   "cell_type": "markdown",
   "metadata": {},
   "source": [
    "# DISPLAY CONFIGURATIONS"
   ]
  },
  {
   "cell_type": "code",
   "execution_count": 78,
   "metadata": {},
   "outputs": [
    {
     "ename": "NameError",
     "evalue": "name 'TrainConfig' is not defined",
     "output_type": "error",
     "traceback": [
      "\u001b[1;31m---------------------------------------------------------------------------\u001b[0m",
      "\u001b[1;31mNameError\u001b[0m                                 Traceback (most recent call last)",
      "\u001b[1;32m<ipython-input-78-034cd6c5291e>\u001b[0m in \u001b[0;36m<module>\u001b[1;34m\u001b[0m\n\u001b[1;32m----> 1\u001b[1;33m \u001b[0mTrainConfig\u001b[0m\u001b[1;33m(\u001b[0m\u001b[1;33m)\u001b[0m\u001b[1;33m.\u001b[0m\u001b[0mdisplay\u001b[0m\u001b[1;33m(\u001b[0m\u001b[1;33m)\u001b[0m\u001b[1;33m\u001b[0m\u001b[1;33m\u001b[0m\u001b[0m\n\u001b[0m",
      "\u001b[1;31mNameError\u001b[0m: name 'TrainConfig' is not defined"
     ]
    }
   ],
   "source": [
    "config.display()"
   ]
  },
  {
   "cell_type": "code",
   "execution_count": null,
   "metadata": {},
   "outputs": [],
   "source": []
  }
 ],
 "metadata": {
  "kernelspec": {
   "display_name": "Python 3",
   "language": "python",
   "name": "python3"
  },
  "language_info": {
   "codemirror_mode": {
    "name": "ipython",
    "version": 3
   },
   "file_extension": ".py",
   "mimetype": "text/x-python",
   "name": "python",
   "nbconvert_exporter": "python",
   "pygments_lexer": "ipython3",
   "version": "3.7.6"
  }
 },
 "nbformat": 4,
 "nbformat_minor": 4
}
